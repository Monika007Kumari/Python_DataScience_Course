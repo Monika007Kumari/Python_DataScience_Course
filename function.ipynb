{
 "cells": [
  {
   "attachments": {},
   "cell_type": "markdown",
   "metadata": {},
   "source": [
    "#### Parameterized, non returning functions"
   ]
  },
  {
   "cell_type": "markdown",
   "metadata": {},
   "source": []
  },
  {
   "cell_type": "code",
   "execution_count": 1,
   "metadata": {},
   "outputs": [],
   "source": [
    "# defining a function\n",
    "def greeting():\n",
    "    print('Good morning')\n",
    "    print('How are you')\n",
    "    print('Good')\n",
    "    print('OK')"
   ]
  },
  {
   "cell_type": "code",
   "execution_count": 2,
   "metadata": {},
   "outputs": [
    {
     "name": "stdout",
     "output_type": "stream",
     "text": [
      "Good morning\n",
      "How are you\n",
      "Good\n",
      "OK\n"
     ]
    }
   ],
   "source": [
    "# call / use\n",
    "greeting()\n"
   ]
  },
  {
   "cell_type": "code",
   "execution_count": 3,
   "metadata": {},
   "outputs": [
    {
     "name": "stdout",
     "output_type": "stream",
     "text": [
      "5\n"
     ]
    }
   ],
   "source": [
    "a= len('hello')\n",
    "print(a)"
   ]
  },
  {
   "cell_type": "code",
   "execution_count": 4,
   "metadata": {},
   "outputs": [
    {
     "name": "stdout",
     "output_type": "stream",
     "text": [
      "Good morning\n",
      "How are you\n",
      "Good\n",
      "OK\n",
      "None\n"
     ]
    }
   ],
   "source": [
    "a=greeting()\n",
    "print(a)"
   ]
  },
  {
   "cell_type": "code",
   "execution_count": 5,
   "metadata": {},
   "outputs": [
    {
     "name": "stdout",
     "output_type": "stream",
     "text": [
      "Good morning\n",
      "How are you\n",
      "Good\n",
      "OK\n"
     ]
    }
   ],
   "source": [
    "greeting()"
   ]
  },
  {
   "attachments": {},
   "cell_type": "markdown",
   "metadata": {},
   "source": [
    "##### function returning a value"
   ]
  },
  {
   "cell_type": "code",
   "execution_count": 9,
   "metadata": {},
   "outputs": [],
   "source": [
    "def random5():\n",
    "    from random import choices\n",
    "    x= list('🦣🐿️🦫🐇🦔🦙🦘🦥🐪')\n",
    "    return \" \".join(choices(x, k=5))"
   ]
  },
  {
   "cell_type": "code",
   "execution_count": 10,
   "metadata": {},
   "outputs": [
    {
     "data": {
      "text/plain": [
       "'🦘 🦙 🦫 🦣 🦔'"
      ]
     },
     "execution_count": 10,
     "metadata": {},
     "output_type": "execute_result"
    }
   ],
   "source": [
    "random5()"
   ]
  },
  {
   "cell_type": "code",
   "execution_count": 11,
   "metadata": {},
   "outputs": [
    {
     "name": "stdout",
     "output_type": "stream",
     "text": [
      "->️ 🐿 🐿 🦣 🦘\n",
      "->🦥 🐪 🦥 🐿 ️\n",
      "->🐿 ️ 🐪 🦫 🐿\n",
      "->🦙 🐪 🦔 🦔 ️\n",
      "->🐇 🐿 🦔 🐇 🦙\n"
     ]
    }
   ],
   "source": [
    "for i in range(5):\n",
    "    print(f'->{random5()}')"
   ]
  }
 ],
 "metadata": {
  "kernelspec": {
   "display_name": "base",
   "language": "python",
   "name": "python3"
  },
  "language_info": {
   "codemirror_mode": {
    "name": "ipython",
    "version": 3
   },
   "file_extension": ".py",
   "mimetype": "text/x-python",
   "name": "python",
   "nbconvert_exporter": "python",
   "pygments_lexer": "ipython3",
   "version": "3.10.8"
  },
  "orig_nbformat": 4,
  "vscode": {
   "interpreter": {
    "hash": "4c0a70d33719bd530e50a8f11ad3cdb9b17aeb20afcd7f3dab3b0e0ca1fc95a6"
   }
  }
 },
 "nbformat": 4,
 "nbformat_minor": 2
}
