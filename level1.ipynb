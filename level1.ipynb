{
 "cells": [
  {
   "cell_type": "code",
   "execution_count": 1,
   "metadata": {},
   "outputs": [
    {
     "data": {
      "text/plain": [
       "4"
      ]
     },
     "execution_count": 1,
     "metadata": {},
     "output_type": "execute_result"
    }
   ],
   "source": [
    "2+2"
   ]
  },
  {
   "cell_type": "markdown",
   "metadata": {},
   "source": []
  },
  {
   "attachments": {},
   "cell_type": "markdown",
   "metadata": {},
   "source": [
    "# This is a heading"
   ]
  },
  {
   "attachments": {},
   "cell_type": "markdown",
   "metadata": {},
   "source": [
    "# python\n",
    "## Level 01\n",
    "- variables\n",
    "- input output\n",
    "- operators\n",
    "- datatypes\n",
    "\n",
    "### level 02\n",
    "- conditional statements\n",
    "   - if\n",
    "   - ifelse\n",
    "   - elif\n",
    "   - match\n",
    "- loops\n",
    "  - for\n",
    "  - while\n",
    "- functions\n",
    "\n",
    "### level 03\n",
    "- string\n",
    "- dict\n",
    "-list\n",
    "- set and tuple\n"
   ]
  },
  {
   "cell_type": "markdown",
   "metadata": {},
   "source": []
  },
  {
   "cell_type": "code",
   "execution_count": null,
   "metadata": {},
   "outputs": [],
   "source": []
  }
 ],
 "metadata": {
  "kernelspec": {
   "display_name": "base",
   "language": "python",
   "name": "python3"
  },
  "language_info": {
   "codemirror_mode": {
    "name": "ipython",
    "version": 3
   },
   "file_extension": ".py",
   "mimetype": "text/x-python",
   "name": "python",
   "nbconvert_exporter": "python",
   "pygments_lexer": "ipython3",
   "version": "3.10.8"
  },
  "orig_nbformat": 4,
  "vscode": {
   "interpreter": {
    "hash": "4c0a70d33719bd530e50a8f11ad3cdb9b17aeb20afcd7f3dab3b0e0ca1fc95a6"
   }
  }
 },
 "nbformat": 4,
 "nbformat_minor": 2
}
