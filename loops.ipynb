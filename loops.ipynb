{
 "cells": [
  {
   "cell_type": "code",
   "execution_count": 3,
   "metadata": {},
   "outputs": [
    {
     "name": "stdout",
     "output_type": "stream",
     "text": [
      "23\n"
     ]
    }
   ],
   "source": [
    "name=\"Vijay Deenanath Chauhan\"\n",
    "print(len(name))"
   ]
  },
  {
   "cell_type": "code",
   "execution_count": 4,
   "metadata": {},
   "outputs": [
    {
     "name": "stdout",
     "output_type": "stream",
     "text": [
      "V\n",
      "i\n",
      "j\n",
      "a\n",
      "y\n",
      " \n",
      "D\n",
      "e\n",
      "e\n",
      "n\n",
      "a\n",
      "n\n",
      "a\n",
      "t\n",
      "h\n",
      " \n",
      "C\n",
      "h\n",
      "a\n",
      "u\n",
      "h\n",
      "a\n",
      "n\n"
     ]
    }
   ],
   "source": [
    "for char in name:\n",
    "    print(char)"
   ]
  },
  {
   "cell_type": "code",
   "execution_count": 8,
   "metadata": {},
   "outputs": [
    {
     "name": "stdout",
     "output_type": "stream",
     "text": [
      "V\n",
      "j\n",
      "y\n",
      " \n",
      "D\n",
      "n\n",
      "n\n",
      "t\n",
      "h\n",
      " \n",
      "C\n",
      "h\n",
      "h\n",
      "n\n"
     ]
    }
   ],
   "source": [
    "for i in name:\n",
    "    if i not in 'aeiouAEIOU':\n",
    "      print(i)"
   ]
  },
  {
   "cell_type": "code",
   "execution_count": 9,
   "metadata": {},
   "outputs": [
    {
     "name": "stdout",
     "output_type": "stream",
     "text": [
      "red\n",
      "green\n",
      "blue\n",
      "black\n"
     ]
    }
   ],
   "source": [
    "colors=['red','green','blue','black']\n",
    "for color in colors:\n",
    "    print(color)"
   ]
  },
  {
   "cell_type": "code",
   "execution_count": 13,
   "metadata": {},
   "outputs": [
    {
     "name": "stdout",
     "output_type": "stream",
     "text": [
      "red\n",
      "3\n",
      "red has 3 chars \n",
      "green\n",
      "5\n",
      "green has 5 chars \n",
      "blue\n",
      "4\n",
      "blue has 4 chars \n",
      "black\n",
      "5\n",
      "black has 5 chars \n"
     ]
    }
   ],
   "source": [
    "for color in colors:\n",
    "    print(color)\n",
    "    print(len(color))\n",
    "    print(f'{color} has {len(color)} chars ')"
   ]
  },
  {
   "attachments": {},
   "cell_type": "markdown",
   "metadata": {},
   "source": [
    "## task1"
   ]
  },
  {
   "attachments": {},
   "cell_type": "markdown",
   "metadata": {},
   "source": [
    "### wap to print if the len of a string is even or odd,from a list of string "
   ]
  },
  {
   "cell_type": "code",
   "execution_count": null,
   "metadata": {},
   "outputs": [],
   "source": [
    "\n"
   ]
  },
  {
   "attachments": {},
   "cell_type": "markdown",
   "metadata": {},
   "source": [
    "14 - feb - 2023\n",
    "`range()` function\n",
    "\n",
    "- `range(100)` - 0 to 99\n",
    "- `range(10,50)` - 0 to 99\n",
    "- `range(1,100,5)` - 1 to 99 step 5\n",
    "- `range(100,0,-1)` - 100 to 1, step-1\n",
    "- `range(0,100,2)` - 0 to 99,step2(even numbers)\n",
    "- `range(0,100,2)` - 0 to 99,step2(odd number)"
   ]
  },
  {
   "attachments": {},
   "cell_type": "markdown",
   "metadata": {},
   "source": [
    "- enumerate\n",
    "- zip"
   ]
  },
  {
   "cell_type": "code",
   "execution_count": 1,
   "metadata": {},
   "outputs": [
    {
     "name": "stdout",
     "output_type": "stream",
     "text": [
      "rose\n",
      "jasmine\n",
      "lily\n",
      "lotus\n"
     ]
    }
   ],
   "source": [
    "\n",
    "flowers=['rose','jasmine','lily','lotus']\n",
    "for flower in flowers:\n",
    "    print(flower)"
   ]
  },
  {
   "cell_type": "code",
   "execution_count": 2,
   "metadata": {},
   "outputs": [
    {
     "name": "stdout",
     "output_type": "stream",
     "text": [
      "0 rose\n",
      "1 jasmine\n",
      "2 lily\n",
      "3 lotus\n"
     ]
    }
   ],
   "source": [
    "for i,flower in enumerate(flowers):\n",
    "    print(i,flower)"
   ]
  },
  {
   "cell_type": "code",
   "execution_count": 11,
   "metadata": {},
   "outputs": [
    {
     "name": "stdout",
     "output_type": "stream",
     "text": [
      "(1+3)**^2 = 16\n",
      "(2+5)**^2 = 49\n",
      "(3+6)**^2 = 81\n",
      "(4+7)**^2 = 121\n",
      "(5+8)**^2 = 169\n",
      "(6+2)**^2 = 64\n"
     ]
    }
   ],
   "source": [
    "x=[1,2,3,4,5,6]\n",
    "y=[3,5,6,7,8,2]\n",
    "# use the formula (a+b)**2 for each pair of values from both list\n",
    "for i,j in zip(x,y):\n",
    "    print(f'({i}+{j})**^2 = {(i+j)**2}')"
   ]
  },
  {
   "attachments": {},
   "cell_type": "markdown",
   "metadata": {},
   "source": [
    "## break and continue"
   ]
  },
  {
   "cell_type": "code",
   "execution_count": 6,
   "metadata": {},
   "outputs": [
    {
     "name": "stdout",
     "output_type": "stream",
     "text": [
      "2\n",
      "3\n",
      "4\n",
      "5\n",
      "6\n",
      "5\n",
      "6\n",
      "7\n",
      "8\n",
      "9\n"
     ]
    }
   ],
   "source": [
    "a=[2,3,0,0,0,4,5,6,0,0,0,5,6,7,8,9]\n",
    "for i in a:\n",
    "    if i == 0: continue\n",
    "    print(i)"
   ]
  },
  {
   "cell_type": "code",
   "execution_count": 7,
   "metadata": {},
   "outputs": [
    {
     "name": "stdout",
     "output_type": "stream",
     "text": [
      "sam\n",
      "sara\n",
      "alexa\n"
     ]
    }
   ],
   "source": [
    "names=['sam','sara','alexa','','alex','','jill','jack']\n",
    "for name in names:\n",
    "    if len(name)==0:break\n",
    "    print(name)"
   ]
  },
  {
   "cell_type": "code",
   "execution_count": 9,
   "metadata": {},
   "outputs": [
    {
     "name": "stdout",
     "output_type": "stream",
     "text": [
      "sam\n",
      "sara\n",
      "alexa\n",
      "Error: Empty name found\n"
     ]
    }
   ],
   "source": [
    "for name in names:\n",
    "    if len(name)==0:\n",
    "        print('Error: Empty name found')\n",
    "        break\n",
    "    print(name)"
   ]
  }
 ],
 "metadata": {
  "kernelspec": {
   "display_name": "base",
   "language": "python",
   "name": "python3"
  },
  "language_info": {
   "codemirror_mode": {
    "name": "ipython",
    "version": 3
   },
   "file_extension": ".py",
   "mimetype": "text/x-python",
   "name": "python",
   "nbconvert_exporter": "python",
   "pygments_lexer": "ipython3",
   "version": "3.10.8"
  },
  "orig_nbformat": 4,
  "vscode": {
   "interpreter": {
    "hash": "4c0a70d33719bd530e50a8f11ad3cdb9b17aeb20afcd7f3dab3b0e0ca1fc95a6"
   }
  }
 },
 "nbformat": 4,
 "nbformat_minor": 2
}
